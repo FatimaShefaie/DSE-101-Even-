{
 "cells": [
  {
   "cell_type": "code",
   "execution_count": 2,
   "id": "chicken-addition",
   "metadata": {},
   "outputs": [
    {
     "name": "stdout",
     "output_type": "stream",
     "text": [
      "Faisal Hakim\n"
     ]
    }
   ],
   "source": [
    "my_name = 'Faisal'\n",
    "last_name = 'Hakim'\n",
    "\n",
    "print(my_name +' '+last_name)"
   ]
  },
  {
   "cell_type": "code",
   "execution_count": null,
   "id": "affiliated-abuse",
   "metadata": {},
   "outputs": [],
   "source": []
  }
 ],
 "metadata": {
  "kernelspec": {
   "display_name": "Python 3",
   "language": "python",
   "name": "python3"
  },
  "language_info": {
   "codemirror_mode": {
    "name": "ipython",
    "version": 3
   },
   "file_extension": ".py",
   "mimetype": "text/x-python",
   "name": "python",
   "nbconvert_exporter": "python",
   "pygments_lexer": "ipython3",
   "version": "3.7.8"
  }
 },
 "nbformat": 4,
 "nbformat_minor": 5
}
